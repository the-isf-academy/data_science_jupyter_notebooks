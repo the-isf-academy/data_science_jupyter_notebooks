{
  "cells": [
    {
      "cell_type": "markdown",
      "metadata": {
        "id": "view-in-github",
        "colab_type": "text"
      },
      "source": [
        "<a href=\"https://colab.research.google.com/github/the-isf-academy/data_science_jupyter_notebooks/blob/main/jupyter_intro.ipynb\" target=\"_parent\"><img src=\"https://colab.research.google.com/assets/colab-badge.svg\" alt=\"Open In Colab\"/></a>"
      ]
    },
    {
      "cell_type": "markdown",
      "metadata": {
        "id": "2l50U-vZdF36"
      },
      "source": [
        "# Welcome to a Jupyter notebook!\n",
        "\n",
        "Jupyter Notebooks are interactive interfaces which mix python code with text and output, like if your Python files in Atom could talk back to you.\n",
        "\n",
        "This notebook will walk you through the basics of using Jupyter Notebooks.\n",
        "\n",
        "testing edits to github"
      ]
    },
    {
      "cell_type": "markdown",
      "metadata": {
        "id": "LnxITZqjdF38"
      },
      "source": [
        "## Running python code\n",
        "\n",
        "One of the most interesting features of Jupyter notebooks is that they combine code with text almost seamlessly in boxes called cells *(the text you're reading right now is in a cell and is written in a language called, Markdown).*\n",
        "\n",
        "So far, you've only seen text cells, but just below is a code cell which contains real, live runnable python code.\n",
        "\n",
        "💻 **To run it, click on the box and type `shift+enter`.**"
      ]
    },
    {
      "cell_type": "code",
      "execution_count": null,
      "metadata": {
        "ExecuteTime": {
          "end_time": "2021-01-20T05:23:59.950310Z",
          "start_time": "2021-01-20T05:23:59.943564Z"
        },
        "colab": {
          "base_uri": "https://localhost:8080/"
        },
        "id": "2NMcEQURdF38",
        "outputId": "e97fd138-353f-4554-d26d-fada03363fcc"
      },
      "outputs": [
        {
          "output_type": "stream",
          "name": "stdout",
          "text": [
            "Pizza Project makes the best pizza in Hong Kong 🍕\n"
          ]
        }
      ],
      "source": [
        "pizza_company = \"Pizza Project\"\n",
        "\n",
        "print(\"{} makes the best pizza in Hong Kong 🍕\".format(pizza_company))"
      ]
    },
    {
      "cell_type": "markdown",
      "metadata": {
        "id": "OBwHewXJdF39"
      },
      "source": [
        "This code does the same thing as it would if you typed it in Atom and ran the code from the Terminal. But here, the code's output in *inline* just below the cell.\n",
        "\n",
        "And the best part? You can edit the code and run it again *in real time*. \n",
        "\n",
        "💻 **Change the `pizza_company` variable above to your favorite pizza place and run the code again with `shift+enter`.**\n",
        "\n",
        "> You should now see `2` in the `[]` next to the line. This signifies how many times that code cell has been ran. "
      ]
    },
    {
      "cell_type": "markdown",
      "metadata": {
        "id": "h_mMWJgXdF39"
      },
      "source": [
        "Pretty cool, huh?\n",
        "\n",
        "Better yet, the state of your program persists throughout the entire notebook. That means that the variable you defined above can also be used in the code cell below.\n",
        "\n",
        "💻 **Run the cell below to see.**"
      ]
    },
    {
      "cell_type": "code",
      "execution_count": null,
      "metadata": {
        "ExecuteTime": {
          "end_time": "2021-01-20T05:24:11.447478Z",
          "start_time": "2021-01-20T05:24:11.442183Z"
        },
        "colab": {
          "base_uri": "https://localhost:8080/"
        },
        "id": "BI6W-TmLdF39",
        "outputId": "361fd2df-71c2-4fff-a98e-7e6b6a9d640f"
      },
      "outputs": [
        {
          "output_type": "stream",
          "name": "stdout",
          "text": [
            "I wonder what toppings Pizza Project has 🤔\n"
          ]
        }
      ],
      "source": [
        "print(\"I wonder what toppings {} has 🤔\".format(pizza_company))"
      ]
    },
    {
      "cell_type": "markdown",
      "metadata": {
        "id": "AQl_pWLadF39"
      },
      "source": [
        "However, since the code runs in cells in Jupyter notebooks, the order that you run the cells in matters. For example, if you try to run a code cell that depends on the output of another cell, you have to run the dependent cell second.\n",
        "\n",
        "💻 **Run the two cells below out of order. What do you think will happen?**"
      ]
    },
    {
      "cell_type": "code",
      "execution_count": null,
      "metadata": {
        "ExecuteTime": {
          "end_time": "2021-01-20T05:24:40.054456Z",
          "start_time": "2021-01-20T05:24:40.047704Z"
        },
        "id": "cBaqYYvRdF39"
      },
      "outputs": [],
      "source": [
        "# run me second\n",
        "favorite_topping = \"pineapple\""
      ]
    },
    {
      "cell_type": "code",
      "execution_count": null,
      "metadata": {
        "ExecuteTime": {
          "end_time": "2021-01-20T05:24:41.066241Z",
          "start_time": "2021-01-20T05:24:41.059166Z"
        },
        "colab": {
          "base_uri": "https://localhost:8080/"
        },
        "id": "qpNz8ibBdF3-",
        "outputId": "873f437d-77f7-43c3-e1d2-a31a64a275f5"
      },
      "outputs": [
        {
          "output_type": "stream",
          "name": "stdout",
          "text": [
            "I hope Pizza Project has my favorite topping pineapple\n"
          ]
        }
      ],
      "source": [
        "# run me first\n",
        "print(\"I hope {} has my favorite topping {}\".format(pizza_company, favorite_topping))"
      ]
    },
    {
      "cell_type": "markdown",
      "metadata": {
        "id": "5d1xO_d1dF3-"
      },
      "source": [
        "You got an error message on the `print` statement, right? \n",
        "\n",
        "Now, 💻 **run that cell again (after you've run the `favorite_topping` cell)** and the error should go away.\n",
        "\n",
        "This is a really important idea in Jupyter notebooks. \n",
        "\n",
        "🗣 **THE ORDER YOU RUN YOUR CELLS IN MATTERS** 🗣\n",
        "\n",
        "You can tell if a cell has been run by the `[ ]` to the left of a cell. \n",
        "   - `[ ]` means the cell hasn't been run\n",
        "   - `[*]` means the cell is running\n",
        "   - `[n]` means the cell was the `n`th cell to be run (and thus has already been run)"
      ]
    }
  ],
  "metadata": {
    "kernelspec": {
      "display_name": "Python 3 (ipykernel)",
      "language": "python",
      "name": "python3"
    },
    "language_info": {
      "codemirror_mode": {
        "name": "ipython",
        "version": 3
      },
      "file_extension": ".py",
      "mimetype": "text/x-python",
      "name": "python",
      "nbconvert_exporter": "python",
      "pygments_lexer": "ipython3",
      "version": "3.9.7"
    },
    "toc": {
      "base_numbering": 1,
      "nav_menu": {},
      "number_sections": true,
      "sideBar": true,
      "skip_h1_title": false,
      "title_cell": "Table of Contents",
      "title_sidebar": "Contents",
      "toc_cell": false,
      "toc_position": {},
      "toc_section_display": true,
      "toc_window_display": false
    },
    "varInspector": {
      "cols": {
        "lenName": 16,
        "lenType": 16,
        "lenVar": 40
      },
      "kernels_config": {
        "python": {
          "delete_cmd_postfix": "",
          "delete_cmd_prefix": "del ",
          "library": "var_list.py",
          "varRefreshCmd": "print(var_dic_list())"
        },
        "r": {
          "delete_cmd_postfix": ") ",
          "delete_cmd_prefix": "rm(",
          "library": "var_list.r",
          "varRefreshCmd": "cat(var_dic_list()) "
        }
      },
      "types_to_exclude": [
        "module",
        "function",
        "builtin_function_or_method",
        "instance",
        "_Feature"
      ],
      "window_display": false
    },
    "colab": {
      "provenance": [],
      "collapsed_sections": [],
      "include_colab_link": true
    }
  },
  "nbformat": 4,
  "nbformat_minor": 0
}