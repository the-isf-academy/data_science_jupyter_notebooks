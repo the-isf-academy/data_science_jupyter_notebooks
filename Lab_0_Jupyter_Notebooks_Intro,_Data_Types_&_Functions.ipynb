{
  "nbformat": 4,
  "nbformat_minor": 0,
  "metadata": {
    "colab": {
      "provenance": [],
      "collapsed_sections": [
        "LnxITZqjdF38",
        "92GfV5wt1y0s",
        "20WQVGWBK55M",
        "5Ww6N5HR5cDQ",
        "unQ6fdC7KWvo",
        "lCBIAA7vN6T7",
        "JW2kw5xhKkxB",
        "e3X8jZ9nOQmw"
      ],
      "include_colab_link": true
    },
    "kernelspec": {
      "name": "python3",
      "display_name": "Python 3"
    },
    "language_info": {
      "name": "python"
    }
  },
  "cells": [
    {
      "cell_type": "markdown",
      "metadata": {
        "id": "view-in-github",
        "colab_type": "text"
      },
      "source": [
        "<a href=\"https://colab.research.google.com/github/the-isf-academy/data_science_jupyter_notebooks/blob/main/Lab_0_Jupyter_Notebooks_Intro%2C_Data_Types_%26_Functions.ipynb\" target=\"_parent\"><img src=\"https://colab.research.google.com/assets/colab-badge.svg\" alt=\"Open In Colab\"/></a>"
      ]
    },
    {
      "cell_type": "markdown",
      "source": [
        "# Jupyter Notebooks, Data Types, & Functions\n",
        "\n",
        "This lab is the start to our Data Science unit. For the majority of this unit, you will write code exclusively in Google Colab with Jupyter Notebooks. \n",
        "\n",
        "\n",
        "Jupyter Notebooks are interactive interfaces which mix python code with text and output, like if your Python files in Atom could talk back to you.\n",
        "\n",
        "This notebook will walk you through the basics of using Jupyter Notebooks and then introduce a few new concepts.\n",
        "\n",
        "test\n"
      ],
      "metadata": {
        "id": "hHMz1GOk00ph"
      }
    },
    {
      "cell_type": "markdown",
      "metadata": {
        "id": "LnxITZqjdF38"
      },
      "source": [
        "# Introduction: Running Python code"
      ]
    },
    {
      "cell_type": "markdown",
      "source": [
        "One of the most interesting features of Jupyter notebooks is that they combine code with text almost seamlessly in boxes called cells *(the text you're reading right now is in a cell and is written in a language called `Markdown`).*\n",
        "\n",
        "So far, you've only seen text cells, but just below is a code cell which contains real, live runnable python code.\n",
        "\n",
        "💻 **Run the cell below by clicking on the box and type `shift+enter`.**"
      ],
      "metadata": {
        "id": "qzFza5Dw1qtZ"
      }
    },
    {
      "cell_type": "code",
      "execution_count": null,
      "metadata": {
        "ExecuteTime": {
          "end_time": "2021-01-20T05:23:59.950310Z",
          "start_time": "2021-01-20T05:23:59.943564Z"
        },
        "id": "2NMcEQURdF38"
      },
      "outputs": [],
      "source": [
        "pizza_company = \"Pizza Project\"\n",
        "\n",
        "print(pizza_company, \"makes the best pizza in Hong Kong 🍕\")"
      ]
    },
    {
      "cell_type": "markdown",
      "metadata": {
        "id": "OBwHewXJdF39"
      },
      "source": [
        "This code does the same thing as it would if you typed it in Atom and ran the code from the Terminal. But here, the code's output in *inline* just below the cell.\n",
        "\n",
        "And the best part? You can edit the code and run it again *in real time*. \n",
        "\n",
        "💻 **Change the `pizza_company` variable above to your favorite pizza place and run the code again with `shift+return/enter`.**\n",
        "\n",
        "> You should now see `2` in the `[]` next to the line. This signifies how many times that code cell has been ran. "
      ]
    },
    {
      "cell_type": "markdown",
      "metadata": {
        "id": "h_mMWJgXdF39"
      },
      "source": [
        "Pretty cool, huh?\n",
        "\n",
        "Better yet, the state of your program persists throughout the entire notebook. That means that the variable you defined above can also be used in the code cell below.\n",
        "\n",
        "💻 **Run the cell below to see.**"
      ]
    },
    {
      "cell_type": "code",
      "execution_count": null,
      "metadata": {
        "ExecuteTime": {
          "end_time": "2021-01-20T05:24:11.447478Z",
          "start_time": "2021-01-20T05:24:11.442183Z"
        },
        "id": "BI6W-TmLdF39"
      },
      "outputs": [],
      "source": [
        "print(\"I wonder what toppings\", pizza_company, \"has 🤔\")"
      ]
    },
    {
      "cell_type": "markdown",
      "metadata": {
        "id": "AQl_pWLadF39"
      },
      "source": [
        "However, since the code runs in cells in Jupyter notebooks, the order that you run the cells in matters. For example, if you try to run a code cell that depends on the output of another cell, you have to run the dependent cell second.\n",
        "\n",
        "💻 **Run the two cells below out of order. What do you think will happen?**"
      ]
    },
    {
      "cell_type": "code",
      "execution_count": null,
      "metadata": {
        "ExecuteTime": {
          "end_time": "2021-01-20T05:24:40.054456Z",
          "start_time": "2021-01-20T05:24:40.047704Z"
        },
        "id": "cBaqYYvRdF39"
      },
      "outputs": [],
      "source": [
        "# run me second\n",
        "favorite_topping = \"pineapple\""
      ]
    },
    {
      "cell_type": "code",
      "execution_count": null,
      "metadata": {
        "ExecuteTime": {
          "end_time": "2021-01-20T05:24:41.066241Z",
          "start_time": "2021-01-20T05:24:41.059166Z"
        },
        "id": "qpNz8ibBdF3-"
      },
      "outputs": [],
      "source": [
        "# run me first\n",
        "print(\"I hope\", pizza_company, \"has my favorite topping\")"
      ]
    },
    {
      "cell_type": "markdown",
      "metadata": {
        "id": "5d1xO_d1dF3-"
      },
      "source": [
        "You got an error message on the `print` statement, right? \n",
        "\n",
        "Now, 💻 **run that cell again (after you've run the `favorite_topping` cell)** and the error should go away.\n",
        "\n",
        "This is a really important idea in Jupyter notebooks. \n",
        "\n",
        "🗣 **THE ORDER YOU RUN YOUR CELLS IN MATTERS** 🗣\n",
        "\n",
        "You can tell if a cell has been run by the `[ ]` to the left of a cell. \n",
        "   - `[ ]` means the cell hasn't been run\n",
        "   - `[*]` means the cell is running\n",
        "   - `[n]` means the cell was the `n`th cell to be run (and thus has already been run)"
      ]
    },
    {
      "cell_type": "markdown",
      "source": [
        "# Data Types"
      ],
      "metadata": {
        "id": "92GfV5wt1y0s"
      }
    },
    {
      "cell_type": "markdown",
      "source": [
        "**In computer science, the type of data is important.**\n",
        "\n",
        "We have already used multiple types of data:\n",
        "- strings `str` (text)\n",
        "- integers `int` (number)\n",
        "- floats `float` (number)\n",
        "- bool `bool` (True or False)"
      ],
      "metadata": {
        "id": "ygY5oj6U11f_"
      }
    },
    {
      "cell_type": "code",
      "source": [
        "# Example: strings\n",
        "\n",
        "name = \"Harry Potter\"\n",
        "print(name)\n",
        "\n",
        "\n",
        "print(type(name))"
      ],
      "metadata": {
        "id": "og-v2Ceo1z9N"
      },
      "execution_count": null,
      "outputs": []
    },
    {
      "cell_type": "code",
      "source": [
        "# Example: integer\n",
        "\n",
        "num_int = 10\n",
        "print(num_int)\n",
        "\n",
        "print(type(num_int))"
      ],
      "metadata": {
        "id": "WnIo96yO2qYw"
      },
      "execution_count": null,
      "outputs": []
    },
    {
      "cell_type": "code",
      "source": [
        "# Example: float\n",
        "\n",
        "num_float = 20.5\n",
        "print(num_float)\n",
        "\n",
        "print(type(num_float))"
      ],
      "metadata": {
        "id": "E4drxpF63FT4"
      },
      "execution_count": null,
      "outputs": []
    },
    {
      "cell_type": "code",
      "source": [
        "# Example: bool\n",
        "\n",
        "is_weekday = True\n",
        "print(is_weekday )\n",
        "\n",
        "print(type(is_weekday))\n"
      ],
      "metadata": {
        "id": "IukLfmvy3OVt"
      },
      "execution_count": null,
      "outputs": []
    },
    {
      "cell_type": "markdown",
      "source": [
        "## Advanced Data Types: String Operations"
      ],
      "metadata": {
        "id": "20WQVGWBK55M"
      }
    },
    {
      "cell_type": "markdown",
      "source": [
        "Certain Data Types have specific operations you can perform on them. You're pretty used to what numerical types can do, so let's explore what the `string` can do.\n",
        "\n",
        "💻 **Run each cell below to explore what's possible.**"
      ],
      "metadata": {
        "id": "Yh16kM-3K86S"
      }
    },
    {
      "cell_type": "code",
      "source": [
        "# Combines strings\n",
        "\n",
        "name = 'harry'\n",
        "print(name, 'is a wizard')"
      ],
      "metadata": {
        "id": "kuuK1Z6mNJtb"
      },
      "execution_count": null,
      "outputs": []
    },
    {
      "cell_type": "code",
      "source": [
        "# Returns the length of a string\n",
        "\n",
        "len('hello')"
      ],
      "metadata": {
        "id": "Lwr4Fw0cLLvu"
      },
      "execution_count": null,
      "outputs": []
    },
    {
      "cell_type": "code",
      "source": [
        "# Returns a boolean representing if a string is in another string\n",
        "\n",
        "print('a' in 'apple')\n",
        "print('z' in 'apple')"
      ],
      "metadata": {
        "id": "ZmAWLWKENGHG"
      },
      "execution_count": null,
      "outputs": []
    },
    {
      "cell_type": "code",
      "source": [
        "# Returns a specific letter \n",
        "current_class = 'computer science'\n",
        "print(current_class[0])\n",
        "print(current_class[2])\n",
        "print(current_class[-1])"
      ],
      "metadata": {
        "id": "2WeMHrhONkUY"
      },
      "execution_count": null,
      "outputs": []
    },
    {
      "cell_type": "code",
      "source": [
        "# loop through a string\n",
        "device = 'macbook'\n",
        "for letter in device:\n",
        "  print(letter)"
      ],
      "metadata": {
        "id": "H5p0eH1sNycy"
      },
      "execution_count": null,
      "outputs": []
    },
    {
      "cell_type": "markdown",
      "source": [
        "# Functions: Return Statements"
      ],
      "metadata": {
        "id": "5Ww6N5HR5cDQ"
      }
    },
    {
      "cell_type": "markdown",
      "source": [
        "Up to this point, we have only written functions to repeat actions. Functions have taken an input as a parameter, and then executed commands based on that parameter. \n",
        "\n",
        "For example `draw_square(size)`, drew a square of any length depending on the `size` parameter. \n",
        "\n",
        "**In this unit, we will use functions to both repeat actions AND provide information. Functions will have inputs and outputs.**\n",
        "\n",
        "---\n",
        "\n",
        "👀 **Let's start with simple example, adding numbers.** In this example, we use a function `add()`. \n",
        "- It will take 2 parameters: `num1` and `num2`\n",
        "- It will return the sum of those numbers as a `int` or `float`\n"
      ],
      "metadata": {
        "id": "Zcrmknnn5gZH"
      }
    },
    {
      "cell_type": "code",
      "source": [
        "# Example 1: add()\n",
        "\n",
        "def add(num1, num2):\n",
        "  return num1 + num2\n"
      ],
      "metadata": {
        "id": "UUeg-gUN5XK6"
      },
      "execution_count": null,
      "outputs": []
    },
    {
      "cell_type": "markdown",
      "source": [
        "💻 **Try this function by running the cell below:**"
      ],
      "metadata": {
        "id": "j7jfAZVe8w1F"
      }
    },
    {
      "cell_type": "code",
      "source": [
        "print(add(5, 5))"
      ],
      "metadata": {
        "id": "e2a75BDd6Ouk"
      },
      "execution_count": null,
      "outputs": []
    },
    {
      "cell_type": "markdown",
      "source": [
        "What if we wanted to solve this math equation: `(2+2) + 10`?\n"
      ],
      "metadata": {
        "id": "nKz_Y8Xj9COU"
      }
    },
    {
      "cell_type": "code",
      "source": [
        "\n",
        "\n",
        "sum1 = add(2,2)\n",
        "final_sum = add(sum1, 10)\n",
        "print(final_sum)\n",
        "\n"
      ],
      "metadata": {
        "id": "FjyKxBxsTrcf"
      },
      "execution_count": null,
      "outputs": []
    },
    {
      "cell_type": "markdown",
      "source": [
        "💻 **Use the `add()` function to solve this math equation:** `(289 + 89.43) + (390.23 + 111)`"
      ],
      "metadata": {
        "id": "EqhRHlGvT-iO"
      }
    },
    {
      "cell_type": "code",
      "source": [
        "# 💻 Solve the equation below\n"
      ],
      "metadata": {
        "id": "hd0U1qRwTxXO"
      },
      "execution_count": null,
      "outputs": []
    },
    {
      "cell_type": "markdown",
      "source": [
        "💻 **Finish the function `multiply()`**\n",
        "- inputs: `num1` and `num2`\n",
        "- output: it will return the product of those numbers as a `int` or `float`"
      ],
      "metadata": {
        "id": "8VwThfkyV1EC"
      }
    },
    {
      "cell_type": "code",
      "source": [
        "# 💻 Write the function multiply() below \n",
        "def multiply(num1,num2):\n"
      ],
      "metadata": {
        "id": "N1YlEcvPV0ZQ"
      },
      "execution_count": null,
      "outputs": []
    },
    {
      "cell_type": "markdown",
      "source": [
        "💻 **Test your function by running the cell below.** If you wrote the `multiply()` function correctly, you should see check mark next to the cell.\n"
      ],
      "metadata": {
        "id": "j6WwlwDYWJBO"
      }
    },
    {
      "cell_type": "code",
      "source": [
        "# 💻 Solve the equation below\n",
        "assert multiply(2,2) == 4\n",
        "assert multiply(2.98,-98) == -292.04\n",
        "assert multiply(127,402) == 51054\n"
      ],
      "metadata": {
        "id": "v25WRAOeUSTG"
      },
      "execution_count": null,
      "outputs": []
    },
    {
      "cell_type": "markdown",
      "source": [
        "# Putting it All Together"
      ],
      "metadata": {
        "id": "unQ6fdC7KWvo"
      }
    },
    {
      "cell_type": "markdown",
      "source": [
        " *The following problems have been adapted from https://codingbat.com/python*\n"
      ],
      "metadata": {
        "id": "0oqv-qqnKa3R"
      }
    },
    {
      "cell_type": "markdown",
      "source": [
        "## Exercise 1: `play_games()`"
      ],
      "metadata": {
        "id": "lCBIAA7vN6T7"
      }
    },
    {
      "cell_type": "markdown",
      "source": [
        "💻 **Finish the function `play_games():`**\n",
        "- input: 2 boolean values representing if you have **has_homework** or if you have a **has_cca**(e.g. (`True`,`False`))*\n",
        "- output: return `True` if **has_homework** and **has_cca** are `False`, return `False` if either of them are `True`\n"
      ],
      "metadata": {
        "id": "imZOTVx7N6UG"
      }
    },
    {
      "cell_type": "code",
      "source": [
        "def play_games(has_homework,has_cca):\n",
        "  # your code goes here (can do you do it in only 1 line of code?)"
      ],
      "metadata": {
        "id": "Ko1RXwYSN6UG"
      },
      "execution_count": null,
      "outputs": []
    },
    {
      "cell_type": "code",
      "source": [
        "# run this cell to check if you correctly wrote the function\n",
        "\n",
        "assert play_games(True,True) == False\n",
        "assert play_games(False,False) == True\n",
        "assert play_games(True,True) == False\n"
      ],
      "metadata": {
        "id": "lBJVXe5kN6UG"
      },
      "execution_count": null,
      "outputs": []
    },
    {
      "cell_type": "markdown",
      "source": [
        "## Exercise 2: `buy_with_octopus()`\n"
      ],
      "metadata": {
        "id": "JW2kw5xhKkxB"
      }
    },
    {
      "cell_type": "markdown",
      "source": [
        "💻 **Finish the function `buy_with_octopus():`**\n",
        "- input: 2 `int` values representing, `price_of_item` & `octopus_balance`*(e.g. (`50`, `100`))*\n",
        "- output: return `True` if `price_of_item` is less than `octopus_balance`, return `False` if `price_of_item` is greater than `octopus_balance`\n"
      ],
      "metadata": {
        "id": "2znW0SphKmt7"
      }
    },
    {
      "cell_type": "code",
      "source": [
        "def buy_with_octopus(price_of_item,octopus_balance):\n",
        "  # your code goes here (can do you do it only 1 line of code?)"
      ],
      "metadata": {
        "id": "rqku1NbvKZBd"
      },
      "execution_count": null,
      "outputs": []
    },
    {
      "cell_type": "code",
      "source": [
        "# run this cell to check if you correctly wrote the funtion\n",
        "\n",
        "assert buy_with_octopus(50,100) == True\n",
        "assert buy_with_octopus(250,10) == False"
      ],
      "metadata": {
        "id": "kTFDnPiyKydG"
      },
      "execution_count": null,
      "outputs": []
    },
    {
      "cell_type": "markdown",
      "source": [
        "## Exercise 3: `starts_with()`\n",
        "\n",
        "---\n",
        "\n",
        "\n"
      ],
      "metadata": {
        "id": "e3X8jZ9nOQmw"
      }
    },
    {
      "cell_type": "markdown",
      "source": [
        "💻 **Finish the function `starts_with():`**\n",
        "- input: 2 `string` values for `letter` and `word`\n",
        "- output: return `True` if `word` starts with `letter`, return `False` if `word` is does not start with `letter`\n"
      ],
      "metadata": {
        "id": "tcSY-P0tOQm7"
      }
    },
    {
      "cell_type": "code",
      "source": [
        "def starts_with(letter, word):\n",
        "  # your code goes here (can you do it only 1 line of code?)\n"
      ],
      "metadata": {
        "id": "N6IGad7kOQm7"
      },
      "execution_count": null,
      "outputs": []
    },
    {
      "cell_type": "code",
      "source": [
        "# run this cell to check if you correctly wrote the funtion\n",
        "\n",
        "assert starts_with('z','zebra') == True\n",
        "assert starts_with('a','ball') == False"
      ],
      "metadata": {
        "id": "I0iJfBOKOQm7"
      },
      "execution_count": null,
      "outputs": []
    },
    {
      "cell_type": "markdown",
      "source": [
        "# ✅ End of lab! ✅\n",
        "\n",
        "1. [Fill out this Deliverables Google Form](https://forms.gle/eUPQQeY4kRVbm4ZD7)\n",
        "2. Did you solve each exercise in one line? If not, try and solve it only one line of code.\n",
        "3. Move onto Lab 2: Lists & More functions\n"
      ],
      "metadata": {
        "id": "a0ego9hIW1iw"
      }
    }
  ]
}